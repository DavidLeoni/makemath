{
 "cells": [
  {
   "cell_type": "markdown",
   "metadata": {},
   "source": [
    "# makemath.py Example"
   ]
  },
  {
   "cell_type": "code",
   "execution_count": 1,
   "metadata": {},
   "outputs": [
    {
     "output_type": "execute_result",
     "data": {
      "text/plain": "False"
     },
     "metadata": {},
     "execution_count": 1
    }
   ],
   "source": [
    "hasattr(5, '__dict__')"
   ]
  },
  {
   "cell_type": "code",
   "execution_count": 2,
   "metadata": {},
   "outputs": [
    {
     "output_type": "execute_result",
     "data": {
      "text/plain": "True"
     },
     "metadata": {},
     "execution_count": 2
    }
   ],
   "source": [
    "isinstance(4, object)"
   ]
  },
  {
   "cell_type": "code",
   "execution_count": 3,
   "metadata": {},
   "outputs": [],
   "source": [
    "import makemath\n",
    "from makemath import *\n",
    "\n",
    "# DAV Jupyter is driving me insane, method _repr_pretty_ is *not* inheritable !!  https://stackoverflow.com/a/41454816\n",
    "# so putting this in expr is *not* enough !!\n",
    "# def _repr_pretty_(self, p, cycle):\n",
    "#       p.text(str(self) if not cycle else '...')\n",
    "makemath.REPR_AS_STR = False"
   ]
  },
  {
   "cell_type": "code",
   "execution_count": 16,
   "metadata": {},
   "outputs": [
    {
     "output_type": "stream",
     "name": "stdout",
     "text": "P\n0\nt + r\nt = r\nP -> Q\nt = r -> Q\nt = r -> t = r -> t = s\n|- t = r -> t = s -> r = s\n|- t + 0 = t\n|- Q\n"
    }
   ],
   "source": [
    "\n",
    "from example1 import *\n",
    "\n",
    "print(P)\n",
    "print(tze())\n",
    "print(tpl(t,r))\n",
    "print(weq(t,r))\n",
    "print(wim(P,Q))\n",
    "print(wim(weq(t,r),Q))\n",
    "print(wim(weq(t,r),wim(weq(t,r),weq(t,s))))\n",
    "print(a1(t,r,s))\n",
    "print(a2(t))\n",
    "print(mp(provable(P), provable(wim(P,Q))))\n",
    "\n",
    "\n"
   ]
  },
  {
   "cell_type": "code",
   "execution_count": 17,
   "metadata": {},
   "outputs": [
    {
     "output_type": "execute_result",
     "data": {
      "text/plain": "termv('t')"
     },
     "metadata": {},
     "execution_count": 17
    }
   ],
   "source": [
    "tt()"
   ]
  },
  {
   "cell_type": "code",
   "execution_count": 18,
   "metadata": {},
   "outputs": [
    {
     "output_type": "execute_result",
     "data": {
      "text/plain": "provable(termv('t'))"
     },
     "metadata": {},
     "execution_count": 18
    }
   ],
   "source": [
    "provable(tt())"
   ]
  },
  {
   "cell_type": "code",
   "execution_count": 19,
   "metadata": {},
   "outputs": [
    {
     "output_type": "stream",
     "name": "stdout",
     "text": "|- t\n"
    }
   ],
   "source": [
    "print(provable(tt()))"
   ]
  },
  {
   "cell_type": "markdown",
   "metadata": {},
   "source": [
    "## Proving the t=t theorem"
   ]
  },
  {
   "cell_type": "markdown",
   "metadata": {},
   "source": [
    "```\n",
    "$( Prove a theorem $)\n",
    "    th1 $p |- t = t $=\n",
    "  $( Here is its proof: $)\n",
    "       tt tze tpl tt weq tt tt weq tt a2 tt tze tpl\n",
    "       tt weq tt tze tpl tt weq tt tt weq wim tt a2\n",
    "       tt tze tpl tt tt a1 mp mp\n",
    "     $.\n",
    "```"
   ]
  },
  {
   "cell_type": "code",
   "execution_count": 20,
   "metadata": {},
   "outputs": [
    {
     "output_type": "execute_result",
     "data": {
      "text/plain": "tpl(termv('t'), termv('r'))"
     },
     "metadata": {},
     "execution_count": 20
    }
   ],
   "source": [
    "tpl(tt(),\n",
    "    tze())"
   ]
  },
  {
   "cell_type": "code",
   "execution_count": 21,
   "metadata": {},
   "outputs": [
    {
     "output_type": "execute_result",
     "data": {
      "text/plain": "provable(weq(tpl(termv('t'), termv('r')), termv('t')))"
     },
     "metadata": {},
     "execution_count": 21
    }
   ],
   "source": [
    "a2(tt())"
   ]
  },
  {
   "cell_type": "code",
   "execution_count": 22,
   "metadata": {},
   "outputs": [
    {
     "output_type": "execute_result",
     "data": {
      "text/plain": "provable(wim(weq(termv('t'), termv('r')), wim(weq(termv('t'), termv('s')), weq(termv('r'), termv('s')))))"
     },
     "metadata": {},
     "execution_count": 22
    }
   ],
   "source": [
    "a1(tt(),\n",
    "   tr(),\n",
    "   ts())"
   ]
  },
  {
   "cell_type": "code",
   "execution_count": 23,
   "metadata": {},
   "outputs": [
    {
     "output_type": "execute_result",
     "data": {
      "text/plain": "provable(wim(weq(tpl(termv('t'), termv('r')), termv('t')), wim(weq(tpl(termv('t'), termv('r')), termv('t')), weq(termv('t'), termv('t')))))"
     },
     "metadata": {},
     "execution_count": 23
    }
   ],
   "source": [
    "a1(tpl(tt(),\n",
    "       tze()),\n",
    "   tt(),\n",
    "   tt())"
   ]
  },
  {
   "cell_type": "code",
   "execution_count": 24,
   "metadata": {},
   "outputs": [
    {
     "output_type": "execute_result",
     "data": {
      "text/plain": "provable(wim(weq(tpl(termv('t'), termv('r')), termv('t')), weq(termv('t'), termv('t'))))"
     },
     "metadata": {},
     "execution_count": 24
    }
   ],
   "source": [
    "mp(a2(tt()), \n",
    "   a1(tpl(\n",
    "           tt(),\n",
    "           tze()),\n",
    "      tt(),\n",
    "      tt()))"
   ]
  },
  {
   "cell_type": "code",
   "execution_count": 25,
   "metadata": {},
   "outputs": [
    {
     "output_type": "execute_result",
     "data": {
      "text/plain": "provable(weq(termv('t'), termv('t')))"
     },
     "metadata": {},
     "execution_count": 25
    }
   ],
   "source": [
    "def th1(t):\n",
    "    return mp(        \n",
    "              a2(tt()),               # t + 0 = t\n",
    "              mp(                     # t + 0 = t -> t = t\n",
    "                 a2(tt()),            # t + 0 = t\n",
    "                 a1(                  # t + 0 = t -> t + 0 = t -> t = t\n",
    "                    tpl(tt(),tze()),  # t + 0                     \n",
    "                    tt(),             # t\n",
    "                    tt())))           # t\n",
    " \n",
    "\n",
    "th1(t)"
   ]
  },
  {
   "cell_type": "markdown",
   "metadata": {},
   "source": [
    "### Predicate calculus"
   ]
  },
  {
   "cell_type": "markdown",
   "metadata": {},
   "source": [
    "```\n",
    "|- A x gamma(x)\n",
    "|- A x gamma(x) and tau(x) -> phi(x)\n",
    "````"
   ]
  },
  {
   "cell_type": "markdown",
   "metadata": {},
   "source": [
    "### setvar"
   ]
  },
  {
   "cell_type": "code",
   "execution_count": 25,
   "metadata": {},
   "outputs": [],
   "source": [
    "\n",
    "\n",
    "\n"
   ]
  },
  {
   "cell_type": "markdown",
   "metadata": {},
   "source": [
    "### forall"
   ]
  },
  {
   "cell_type": "code",
   "execution_count": 25,
   "metadata": {},
   "outputs": [],
   "source": [
    "\n"
   ]
  },
  {
   "cell_type": "code",
   "execution_count": 26,
   "metadata": {},
   "outputs": [
    {
     "output_type": "stream",
     "name": "stdout",
     "text": "A. x E. x ph\n"
    }
   ],
   "source": [
    "print(forall(x,exists(x,ph)))"
   ]
  },
  {
   "cell_type": "code",
   "execution_count": null,
   "metadata": {},
   "outputs": [],
   "source": []
  },
  {
   "cell_type": "code",
   "execution_count": null,
   "metadata": {},
   "outputs": [],
   "source": []
  },
  {
   "cell_type": "code",
   "execution_count": null,
   "metadata": {},
   "outputs": [],
   "source": []
  },
  {
   "cell_type": "code",
   "execution_count": null,
   "metadata": {},
   "outputs": [],
   "source": []
  },
  {
   "cell_type": "code",
   "execution_count": null,
   "metadata": {},
   "outputs": [],
   "source": []
  },
  {
   "cell_type": "code",
   "execution_count": null,
   "metadata": {},
   "outputs": [],
   "source": []
  }
 ],
 "metadata": {
  "kernelspec": {
   "display_name": "Python 3",
   "language": "python",
   "name": "python3"
  },
  "language_info": {
   "codemirror_mode": {
    "name": "ipython",
    "version": 3
   },
   "file_extension": ".py",
   "mimetype": "text/x-python",
   "name": "python",
   "nbconvert_exporter": "python",
   "pygments_lexer": "ipython3",
   "version": "3.7.7-final"
  },
  "toc": {
   "base_numbering": 1,
   "nav_menu": {},
   "number_sections": false,
   "sideBar": true,
   "skip_h1_title": false,
   "title_cell": "Table of Contents",
   "title_sidebar": "Contents",
   "toc_cell": false,
   "toc_position": {},
   "toc_section_display": true,
   "toc_window_display": true
  }
 },
 "nbformat": 4,
 "nbformat_minor": 2
}